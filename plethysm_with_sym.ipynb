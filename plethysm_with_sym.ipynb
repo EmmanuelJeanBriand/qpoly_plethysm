{
 "cells": [
  {
   "cell_type": "markdown",
   "metadata": {},
   "source": [
    "## The plethysm coefficients we are computing\n",
    "\n",
    "In the examples below, we consider the functions associated to the plethysm coefficients:\n",
    "\n",
    "$$\\left\\langle S_{22}[S^k] \\middle|  S_{4k- b_1 - b_2, b_2, b_1}\\right\\rangle$$\n",
    "\n",
    "and \n",
    "\n",
    "$$\\left\\langle S_{1111}[S^k] \\middle|  S_{4k- b_1 - b_2,b_2,  b_1}\\right\\rangle$$"
   ]
  },
  {
   "cell_type": "markdown",
   "metadata": {},
   "source": [
    "*Note:* In general, the reindexing is as follows (see Rem. 3.8 in the Kahle-Michalek paper/preprint): the plethysm of $S_{\\mu}[S^s]$ is considered for fixed $\\mu$; the Schur functions $S_{\\lambda}$ in their exapnsion as relabeled with $b_1, b_2, \\ldots$ such that \n",
    "- let $d$ be the size of $\\mu$\n",
    "- then $b_i = \\lambda_{d-i}- \\lambda_d$ for all $i \\in \\{1, \\ldots, d-2\\}$ \n",
    "- and $s=k - \\lambda_d$.\n",
    "\n",
    "For $\\mu=(1,1,1,1)$ or $(2,2)$ we have $d=4$. Taking $\\lambda_4=0$, there is:\n",
    "- $b_1 = \\lambda_3$ \n",
    "- $b_2=\\lambda_2$\n",
    "- $s=k$\n",
    "\n",
    "We have: $|\\lambda| = 4k$ that is:\n",
    "$\\lambda_1 + b_1 + b_2 = 4 k$ i.e. $\\lambda_1 = 4 k - b_1 - b_2$."
   ]
  },
  {
   "cell_type": "markdown",
   "metadata": {},
   "source": [
    "Let us implement a functions that calculate the considered plethysm coefficients:"
   ]
  },
  {
   "cell_type": "code",
   "execution_count": 1,
   "metadata": {},
   "outputs": [],
   "source": [
    "S = SymmetricFunctions(QQ).s()\n",
    "\n",
    "def plethysm_family(mu):\n",
    "    return lambda k, lam : S(mu).plethysm(S([k])).coefficient(lam)"
   ]
  },
  {
   "cell_type": "code",
   "execution_count": 2,
   "metadata": {},
   "outputs": [
    {
     "data": {
      "text/plain": [
       "1"
      ]
     },
     "execution_count": 2,
     "metadata": {},
     "output_type": "execute_result"
    }
   ],
   "source": [
    "F = plethysm_family([1, 1, 1, 1])\n",
    "F(3, [3, 3, 3, 3])"
   ]
  },
  {
   "cell_type": "markdown",
   "metadata": {},
   "source": [
    "Let us implement also changes of coordinates: parts and coordinates $b_1$, $b_2$, ..., $s$.\n",
    "\n"
   ]
  },
  {
   "cell_type": "code",
   "execution_count": 3,
   "metadata": {},
   "outputs": [
    {
     "data": {
      "text/plain": [
       "(b1, b2, s, k, lam1, lam2, lam3, lam4)"
      ]
     },
     "execution_count": 3,
     "metadata": {},
     "output_type": "execute_result"
    }
   ],
   "source": [
    "def parts_to_b(mu):\n",
    "    d = len(Partition(mu))\n",
    "    def F(k, lam):\n",
    "        if len(lam) > d: raise ValueError\n",
    "        lam = list(lam) + [0]*(d-len(lam))\n",
    "        lam_last = lam.pop()\n",
    "        lam = [x-lam_last for x in lam]\n",
    "        s = k - lam_last\n",
    "        b = list(reversed(lam[1:]))\n",
    "        return s, b\n",
    "    return F\n",
    "\n",
    "def b_to_parts(mu):\n",
    "    d = len(Partition(mu))\n",
    "    def F(s, b):\n",
    "        if len(b) > d - 2: raise ValueError\n",
    "        k = s\n",
    "        lam = [d*k - sum(b)] + list(reversed(b))\n",
    "        return k, lam\n",
    "    return F\n",
    "\n",
    "F = parts_to_b([1,1,1,1])\n",
    "G = b_to_parts([1,1,1,1])\n",
    "var('b1 b2 s k lam1 lam2 lam3 lam4')"
   ]
  },
  {
   "cell_type": "code",
   "execution_count": 4,
   "metadata": {},
   "outputs": [
    {
     "data": {
      "text/plain": [
       "(k - lam4, [lam3 - lam4, lam2 - lam4])"
      ]
     },
     "execution_count": 4,
     "metadata": {},
     "output_type": "execute_result"
    }
   ],
   "source": [
    "F(k, [lam1, lam2, lam3, lam4])"
   ]
  },
  {
   "cell_type": "code",
   "execution_count": 5,
   "metadata": {},
   "outputs": [
    {
     "data": {
      "text/plain": [
       "(s, [-b1 - b2 + 4*s, b2, b1])"
      ]
     },
     "execution_count": 5,
     "metadata": {},
     "output_type": "execute_result"
    }
   ],
   "source": [
    "G(s, [b1, b2])"
   ]
  }
 ],
 "metadata": {
  "kernelspec": {
   "display_name": "SageMath 9.2 (conda)",
   "language": "sage",
   "name": "sagemath"
  },
  "language_info": {
   "codemirror_mode": {
    "name": "ipython",
    "version": 3
   },
   "file_extension": ".py",
   "mimetype": "text/x-python",
   "name": "python",
   "nbconvert_exporter": "python",
   "pygments_lexer": "ipython3",
   "version": "3.7.8"
  }
 },
 "nbformat": 4,
 "nbformat_minor": 4
}
