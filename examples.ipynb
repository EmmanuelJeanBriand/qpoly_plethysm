{
 "cells": [
  {
   "cell_type": "code",
   "execution_count": 1,
   "metadata": {},
   "outputs": [],
   "source": [
    "%config Completer.use_jedi = False"
   ]
  },
  {
   "cell_type": "code",
   "execution_count": 2,
   "metadata": {},
   "outputs": [],
   "source": [
    "load(\"BarvinokOutput.sage\")                                \n",
    "str1 = \"\"\"{ [s] -> ((((((3/5 - 289/720 * s + 1/20 * s^2 + 1/720 * s^3) + (5/8 + 1/8 * s) *\n",
    "floor((s)/2)) + (1/3 - 1/6 * s) * floor((s)/3)) + ((7/12 - 1/3 * s) + 1/2 *\n",
    "floor((s)/3)) * floor((1 + s)/3) + 1/4 * floor((1 + s)/3)^2) + 1/4 * floor((s)/4))\n",
    "- 1/4 * floor((3 + s)/4)) : exists (e0 = floor((-1 + s)/5): 5e0 = -1 + s and s >= 1);\n",
    "[s] -> ((((((1 - 289/720 * s + 1/20 * s^2 + 1/720 * s^3) + (5/8 + 1/8 * s) *\n",
    "floor((s)/2)) + (1/3 - 1/6 * s) * floor((s)/3)) + ((7/12 - 1/3 * s) + 1/2 *\n",
    "floor((s)/3)) * floor((1 + s)/3) + 1/4 * floor((1 + s)/3)^2) + 1/4 * floor((s)/4)) -\n",
    "1/4 * floor((3 + s)/4)) : exists (e0 = floor((-1 + s)/5), e1 = floor((s)/5): 5e1 = s\n",
    "and s >= 5 and 5e0 <= -2 + s and 5e0 >= -5 + s); [s] -> (((((((-4/5 + 289/720 * s -\n",
    "1/20 * s^2 - 1/720 * s^3) + (-5/8 - 1/8 * s) * floor((s)/2)) + (-1/3 + 1/6 * s) *\n",
    "floor((s)/3)) + ((-7/12 + 1/3 * s) - 1/2 * floor((s)/3)) * floor((1 + s)/3) - 1/4 *\n",
    "floor((1 + s)/3)^2) - 1/4 * floor((s)/4)) + 1/4 * floor((3 + s)/4)) * floor((s)/5) +\n",
    "((((((4/5 - 289/720 * s + 1/20 * s^2 + 1/720 * s^3) + (5/8 + 1/8 * s) * floor((s)/2)) +\n",
    "(1/3 - 1/6 * s) * floor((s)/3)) + ((7/12 - 1/3 * s) + 1/2 * floor((s)/3)) *\n",
    "floor((1 + s)/3) + 1/4 * floor((1 + s)/3)^2) + 1/4 * floor((s)/4)) - 1/4 *\n",
    "floor((3 + s)/4)) * floor((3 + s)/5)) : exists (e0 = floor((-1 + s)/5), e1 =\n",
    "floor((s)/5): s >= 1 and 5e0 <= -2 + s and 5e0 >= -5 + s and 5e1 <= -1 + s and\n",
    "5e1 >= -4 + s); [s] -> 1 : s = 0 }\"\"\"\n",
    "\n",
    "str2 = \"\"\"{ [b1, s] -> (2/3 + 1/3 * b1) : exists (e0 = floor((-1 + b1)/3): 3e0 = -1 + b1 and 3s >= 1 + 2b1 and b1 >= 1 and s >= 1 + b1); [b1, s] -> ((2/3 - 1/6 * b1 - 1/2 * b1^2) + (1/2 + b1) * s - 1/2 * s^2) : exists (e0 = floor((-1 + b1)/3): 3e0 = -1 + b1 and 3s >= 1 + 2b1 and s >= -1 + b1 and s <= b1); [b1, s] -> ((2/3 - 2/3 * b1) + s) : exists (e0 = floor((-1 + b1)/3): 3e0 = -1 + b1 and 3s >= 1 + 2b1 and s <= -2 + b1); [b1, s] -> 1/3 * b1 : exists (e0 = floor((-1 + b1)/3), e1 = floor((b1)/3): 3e1 = b1 and b1 >= 1 and s >= 1 + b1 and 3e0 >= -3 + b1 and 3e0 <= -2 + b1); [b1, s] -> ((-1/6 * b1 - 1/2 * b1^2) + (1/2 + b1) * s - 1/2 * s^2) : exists (e0 = floor((-1 + b1)/3), e1 = floor((b1)/3): 3e1 = b1 and b1 >= 1 and 3s >= 2b1 and s >= -1 + b1 and s <= b1 and 3e0 <= -2 + b1 and 3e0 >= -3 + b1); [b1, s] -> (1/3 + 1/3 * b1) : exists (e0 = floor((-1 + b1)/3), e1 = floor((b1)/3), e2 = floor((-2 + b1)/3): 3e2 = -2 + b1 and b1 >= 1 and s >= 1 + b1 and 3e0 >= -3 + b1 and 3e0 <= -2 + b1 and 3e1 <= -1 + b1 and 3e1 >= -2 + b1); [b1, s] -> ((1/3 - 1/6 * b1 - 1/2 * b1^2) + (1/2 + b1) * s - 1/2 * s^2) : exists (e0 = floor((-1 + b1)/3), e1 = floor((b1)/3), e2 = floor((-2 + b1)/3): 3e2 = -2 + b1 and b1 >= 1 and 3s >= 2b1 and s >= -1 + b1 and s <= b1 and 3e0 <= -2 + b1 and 3e0 >= -3 + b1 and 3e1 <= -1 + b1 and 3e1 >= -2 + b1); [b1, s] -> (-2/3 * b1 + s) : exists (e0 = floor((-1 + b1)/3), e1 = floor((b1)/3): 3e1 = b1 and 3s >= 2b1 and s <= -2 + b1 and 3e0 <= -2 + b1 and 3e0 >= -3 + b1); [b1, s] -> ((1/3 - 2/3 * b1) + s) : exists (e0 = floor((-1 + b1)/3), e1 = floor((b1)/3), e2 = floor((-2 + b1)/3): 3e2 = -2 + b1 and 3s >= 2b1 and s <= -2 + b1 and 3e0 <= -2 + b1 and 3e0 >= -3 + b1 and 3e1 <= -1 + b1 and 3e1 >= -2 + b1) }\"\"\"\n",
    "\n",
    "str3 = open('1111.txt', 'r').read()\n",
    "\n",
    "str4 = open('22.txt', 'r').read()"
   ]
  },
  {
   "cell_type": "code",
   "execution_count": 3,
   "metadata": {},
   "outputs": [],
   "source": [
    "str1 = \"\"\"{ [s] -> F1 : exists (e0 = floor((-1 + s)/5):\n",
    "5e0 = -1 + s and s >= 1);\n",
    "\n",
    "means:\n",
    "\n",
    "s = 1 mod 5  \n",
    "\n",
    "[s] -> F2 : exists (e0 = floor((-1 + s)/5), e1 = floor((s)/5): 5e1 = s\n",
    "and s >= 5 and 5e0 <= -2 + s and 5e0 >= -5 + s); \n",
    "\n",
    "means:\n",
    "\n",
    "s = 0 mod 5 (e0 = s/5-1)\n",
    "and s>= 5 and s-5 <= s -2 and s-5 >= s-5\n",
    "i.e. s =0 mod 5 and s >= 1\n",
    "\n",
    "[s] -> F3 : exists (e0 = floor((-1 + s)/5), e1 =\n",
    "floor((s)/5): s >= 1 and 5e0 <= -2 + s and 5e0 >= -5 + s and 5e1 <= -1 + s and\n",
    "5e1 >= -4 + s); \n",
    "\n",
    "means something different for each value of s mod 5.\n",
    "\n",
    "S = 1 mopd 5\n",
    "\n",
    "[s] -> 1 : s = 0 }\"\"\"\n",
    "\n"
   ]
  },
  {
   "cell_type": "markdown",
   "metadata": {},
   "source": [
    "Generamos los 4 casos de la anterior celda"
   ]
  },
  {
   "cell_type": "code",
   "execution_count": 27,
   "metadata": {
    "scrolled": true
   },
   "outputs": [],
   "source": [
    "bv1 = BarvinokOutput(str1) # TypeError\n",
    "bv2 = BarvinokOutput(str2)\n",
    "bv3 = BarvinokOutput(str3)\n",
    "bv4 = BarvinokOutput(str4)"
   ]
  },
  {
   "cell_type": "markdown",
   "metadata": {},
   "source": [
    "Hacemos un print de las condiciones y expresiones manteniendo las funciones floor"
   ]
  },
  {
   "cell_type": "code",
   "execution_count": 7,
   "metadata": {
    "scrolled": true
   },
   "outputs": [
    {
     "ename": "NameError",
     "evalue": "name 'bv3' is not defined",
     "output_type": "error",
     "traceback": [
      "\u001b[0;31m---------------------------------------------------------------------------\u001b[0m",
      "\u001b[0;31mNameError\u001b[0m                                 Traceback (most recent call last)",
      "\u001b[0;32m<ipython-input-7-ef17a4228694>\u001b[0m in \u001b[0;36m<module>\u001b[0;34m\u001b[0m\n\u001b[0;32m----> 1\u001b[0;31m \u001b[0;32mfor\u001b[0m \u001b[0mcase\u001b[0m \u001b[0;32min\u001b[0m \u001b[0mrange\u001b[0m\u001b[0;34m(\u001b[0m\u001b[0mbv3\u001b[0m\u001b[0;34m.\u001b[0m\u001b[0mn_cases\u001b[0m\u001b[0;34m)\u001b[0m\u001b[0;34m:\u001b[0m\u001b[0;34m\u001b[0m\u001b[0;34m\u001b[0m\u001b[0m\n\u001b[0m\u001b[1;32m      2\u001b[0m         \u001b[0mprint\u001b[0m\u001b[0;34m(\u001b[0m\u001b[0;34m\" ************ \"\u001b[0m \u001b[0;34m,\u001b[0m \u001b[0;34m\"EXPRESSION \"\u001b[0m\u001b[0;34m,\u001b[0m \u001b[0mcase\u001b[0m \u001b[0;34m,\u001b[0m \u001b[0;34m\" ************ \"\u001b[0m\u001b[0;34m)\u001b[0m\u001b[0;34m\u001b[0m\u001b[0;34m\u001b[0m\u001b[0m\n\u001b[1;32m      3\u001b[0m         \u001b[0mprint\u001b[0m\u001b[0;34m(\u001b[0m\u001b[0mbv3\u001b[0m\u001b[0;34m.\u001b[0m\u001b[0mexpressions\u001b[0m\u001b[0;34m[\u001b[0m\u001b[0mcase\u001b[0m\u001b[0;34m]\u001b[0m\u001b[0;34m)\u001b[0m \u001b[0;31m# was: n.expressions[case]\u001b[0m\u001b[0;34m\u001b[0m\u001b[0;34m\u001b[0m\u001b[0m\n\u001b[1;32m      4\u001b[0m         \u001b[0mprint\u001b[0m\u001b[0;34m(\u001b[0m\u001b[0;34m\"CONDITIONS:\"\u001b[0m\u001b[0;34m)\u001b[0m\u001b[0;34m\u001b[0m\u001b[0;34m\u001b[0m\u001b[0m\n\u001b[1;32m      5\u001b[0m         \u001b[0;32mfor\u001b[0m \u001b[0mor_ind\u001b[0m \u001b[0;34m,\u001b[0m \u001b[0mor_cond\u001b[0m \u001b[0;32min\u001b[0m \u001b[0menumerate\u001b[0m\u001b[0;34m(\u001b[0m\u001b[0mbv3\u001b[0m\u001b[0;34m.\u001b[0m\u001b[0mconditions\u001b[0m\u001b[0;34m[\u001b[0m\u001b[0mcase\u001b[0m\u001b[0;34m]\u001b[0m\u001b[0;34m)\u001b[0m\u001b[0;34m:\u001b[0m\u001b[0;34m\u001b[0m\u001b[0;34m\u001b[0m\u001b[0m\n",
      "\u001b[0;31mNameError\u001b[0m: name 'bv3' is not defined"
     ]
    }
   ],
   "source": [
    "for case in range(bv3.n_cases):\n",
    "        print(\" ************ \" , \"EXPRESSION \", case , \" ************ \")\n",
    "        print(bv3.expressions[case]) # was: n.expressions[case]\n",
    "        print(\"CONDITIONS:\")\n",
    "        for or_ind , or_cond in enumerate(bv3.conditions[case]):\n",
    "            print('------------','OR (', or_ind,')', '------------' )\n",
    "            for and_ind, and_cond in enumerate(or_cond):\n",
    "                print(and_cond)\n",
    "                print(\"AND (\" ,and_ind,\")\" ) # was: ind\n",
    "            \n",
    "        \n",
    "        \n"
   ]
  },
  {
   "cell_type": "markdown",
   "metadata": {},
   "source": [
    "A la hora de hacer reducciones por módulo debemos saber en qué rango debemos tomar el módulo en cada variable \n",
    "Las variables extra e_i son redundantes en las condiciones y no se consideran"
   ]
  },
  {
   "cell_type": "code",
   "execution_count": 4,
   "metadata": {
    "scrolled": true
   },
   "outputs": [
    {
     "name": "stdout",
     "output_type": "stream",
     "text": [
      "{'b1': b1, 'b2': b2, 's': s, 'e0': e0, 'e1': e1}\n"
     ]
    },
    {
     "data": {
      "text/plain": [
       "[[3, 3, 1],\n",
       " [1, 3, 1],\n",
       " [1, 1, 1],\n",
       " [1, 3, 1],\n",
       " [3, 3, 1],\n",
       " [1, 3, 3],\n",
       " [1, 3, 3],\n",
       " [3, 3, 1],\n",
       " [1, 3, 1],\n",
       " [3, 3, 1],\n",
       " [1, 3, 1],\n",
       " [1, 1, 1],\n",
       " [1, 3, 1],\n",
       " [1, 3, 3],\n",
       " [3, 3, 3],\n",
       " [3, 3, 1],\n",
       " [3, 3, 1],\n",
       " [6, 6, 1],\n",
       " [6, 6, 1],\n",
       " [3, 3, 3],\n",
       " [3, 1, 1],\n",
       " [3, 3, 1],\n",
       " [3, 3, 3],\n",
       " [3, 3, 3],\n",
       " [3, 3, 1],\n",
       " [3, 3, 3],\n",
       " [3, 3, 1],\n",
       " [3, 3, 3],\n",
       " [3, 3, 1],\n",
       " [3, 3, 1],\n",
       " [3, 3, 1],\n",
       " [3, 3, 1],\n",
       " [6, 6, 1],\n",
       " [6, 6, 1],\n",
       " [3, 3, 3],\n",
       " [6, 6, 1],\n",
       " [3, 3, 3],\n",
       " [6, 6, 1],\n",
       " [3, 3, 3],\n",
       " [3, 1, 1],\n",
       " [3, 3, 1],\n",
       " [3, 3, 3],\n",
       " [3, 1, 1],\n",
       " [3, 3, 3],\n",
       " [3, 1, 1],\n",
       " [3, 3, 3],\n",
       " [3, 3, 1],\n",
       " [3, 3, 1],\n",
       " [3, 3, 1],\n",
       " [3, 3, 1],\n",
       " [3, 3, 1],\n",
       " [3, 3, 1],\n",
       " [3, 3, 1],\n",
       " [3, 3, 1],\n",
       " [3, 3, 3],\n",
       " [3, 3, 3],\n",
       " [3, 3, 3],\n",
       " [3, 3, 3],\n",
       " [1, 3, 1],\n",
       " [1, 3, 1],\n",
       " [1, 1, 1],\n",
       " [1, 3, 1],\n",
       " [1, 3, 3]]"
      ]
     },
     "execution_count": 4,
     "metadata": {},
     "output_type": "execute_result"
    }
   ],
   "source": [
    "print(vardic)\n",
    "bv4.lcm"
   ]
  },
  {
   "cell_type": "markdown",
   "metadata": {},
   "source": [
    "Hacemos el print del caso concreto en que (b1, b2 , s) es congruente con (1, 0, 0) mod (3, 3 , 1) (considerando el cas0 0 del str3)"
   ]
  },
  {
   "cell_type": "code",
   "execution_count": 28,
   "metadata": {},
   "outputs": [
    {
     "name": "stdout",
     "output_type": "stream",
     "text": [
      " ************  EXPRESSION Mod [1,0,0] ************ \n",
      "1/48*(b1 + 1)*b2^2 - 1/24*b1^2 - 1/3*(b1 - 1)*(b2 - 1) - 1/48*(b1^2 - 18*b1 + 16)*b2 - 1/3*b1 + 1/2\n",
      "CONDITIONS:\n",
      "------------ OR ( 0 ) ------------\n",
      "AND ( 0 )\n",
      "b1 - 5 == b1 - 2\n",
      "AND ( 1 )\n",
      "b2 == b2\n",
      "AND ( 2 )\n",
      "b1 >= 2\n",
      "AND ( 3 )\n",
      "b2 >= b1 + 2\n",
      "AND ( 4 )\n",
      "s >= b1 + b2 + 1\n",
      "------------ OR ( 1 ) ------------\n",
      "AND ( 0 )\n",
      "s == b1 + b2\n",
      "AND ( 1 )\n",
      "b2 == b2\n",
      "AND ( 2 )\n",
      "b1 + b2 - 5 == b1 + b2 - 2\n",
      "AND ( 3 )\n",
      "b1 >= 2\n",
      "AND ( 4 )\n",
      "b2 >= b1 + 2\n",
      "------------ OR ( 2 ) ------------\n",
      "AND ( 0 )\n",
      "s == b1 + b2 - 1\n",
      "AND ( 1 )\n",
      "b2 == b2\n",
      "AND ( 2 )\n",
      "b1 + b2 - 5 == b1 + b2 - 2\n",
      "AND ( 3 )\n",
      "b1 >= 3\n",
      "AND ( 4 )\n",
      "b2 >= b1 + 2\n"
     ]
    }
   ],
   "source": [
    "expr , cond_list = bv3.modExpressions()[0][1,0,0]\n",
    "\n",
    "print(\" ************ \" , \"EXPRESSION Mod [1,0,0]\" \" ************ \")\n",
    "print(expr)\n",
    "print(\"CONDITIONS:\")\n",
    "for or_ind , or_cond in enumerate(cond_list):\n",
    "    print('------------','OR (', or_ind,')', '------------' )\n",
    "    for and_ind, and_cond in enumerate(or_cond):\n",
    "        print(\"AND (\",and_ind,\")\" )\n",
    "        print(and_cond)"
   ]
  },
  {
   "cell_type": "markdown",
   "metadata": {},
   "source": [
    "Estructura completa :"
   ]
  },
  {
   "cell_type": "code",
   "execution_count": null,
   "metadata": {
    "scrolled": true
   },
   "outputs": [
    {
     "ename": "KeyboardInterrupt",
     "evalue": "",
     "output_type": "error",
     "traceback": [
      "\u001b[0;31m---------------------------------------------------------------------------\u001b[0m",
      "\u001b[0;31mKeyboardInterrupt\u001b[0m                         Traceback (most recent call last)",
      "\u001b[0;32msrc/cysignals/signals.pyx\u001b[0m in \u001b[0;36mcysignals.signals.python_check_interrupt\u001b[0;34m()\u001b[0m\n",
      "\u001b[0;31mKeyboardInterrupt\u001b[0m: "
     ]
    }
   ],
   "source": [
    "bv3.modExpressions()"
   ]
  },
  {
   "cell_type": "code",
   "execution_count": 24,
   "metadata": {},
   "outputs": [],
   "source": [
    "%config Completer.use_jedi = False\n"
   ]
  },
  {
   "cell_type": "code",
   "execution_count": 12,
   "metadata": {},
   "outputs": [
    {
     "name": "stdout",
     "output_type": "stream",
     "text": [
      "Overwriting extract_coefficients.sage\n"
     ]
    }
   ],
   "source": [
    "%%writefile extract_coefficients.sage\n",
    "def rel_coeffs(linrel, vars):\n",
    "    r\"\"\"\n",
    "    Extract the coefficients and type of a linear relation.\n",
    "    \n",
    "    EXAMPLE::\n",
    "    \n",
    "        sage: rel_coeffs( b1 >= 2*b2 +1 , [b1, b2, s])\n",
    "        ('ieq', (-1, -2, 1, 0))\n",
    "    \"\"\"\n",
    "    form = linrel.lhs() - linrel.rhs()\n",
    "    if linrel.operator() == operator.ge:\n",
    "        type = 'ieq'\n",
    "    elif linrel.operator() == operator.eq:\n",
    "        type = 'eq'\n",
    "    elif linrel.operator() == operator.le:\n",
    "        type = 'ieq'\n",
    "        form = -form\n",
    "    else:\n",
    "        raise NotImplementedError('Received relation of type', linrel.operator())\n",
    "    return (type, extract_coeffs(form, vars))\n",
    "\n",
    "def extract_coeffs(form, vars):\n",
    "    r\"\"\"Return the coefficients of an affine form.\n",
    "    \n",
    "    EXAMPLE::\n",
    "    \n",
    "        sage: extract_coeffs(b1 + 7*b2 -3, [b1, b2, s])\n",
    "        [-3, 1, 7, 0]\n",
    "    \"\"\"\n",
    "    R = PolynomialRing(QQ, vars)\n",
    "    return ( [QQ(R(form).constant_coefficient())] \n",
    "             + [QQ(R(form).monomial_coefficient(R(X))) for X in vars])\n",
    "\n",
    "def polyhedron(desc, vars):\n",
    "    r\"\"\"\n",
    "    Return the polyhedron defined by a list of affine equations and inequalities\n",
    "    \n",
    "    EXAMPLE::\n",
    "    \n",
    "        sage: polyhedron([b1 >= 0, b2 >= 0, b1 + b2 <= 1], [b1, b2])\n",
    "        A 2-dimensional polyhedron in QQ^2 defined as the convex hull of 3 verteices\n",
    "    \"\"\"\n",
    "    K = [rel_coeffs(r, [b1, b2, s]) for r in desc]\n",
    "    P = Polyhedron(ieqs=[F for (type, F) in K if type == 'ieq'],\n",
    "                   eqns=[F for (type, F) in K if type == 'eq'])\n",
    "    return P"
   ]
  },
  {
   "cell_type": "code",
   "execution_count": 30,
   "metadata": {},
   "outputs": [
    {
     "ename": "KeyboardInterrupt",
     "evalue": "",
     "output_type": "error",
     "traceback": [
      "\u001b[0;31m---------------------------------------------------------------------------\u001b[0m",
      "\u001b[0;31mKeyboardInterrupt\u001b[0m                         Traceback (most recent call last)",
      "\u001b[0;32m<ipython-input-30-8571d627b24d>\u001b[0m in \u001b[0;36m<module>\u001b[0;34m\u001b[0m\n\u001b[0;32m----> 1\u001b[0;31m \u001b[0mexpr\u001b[0m \u001b[0;34m,\u001b[0m \u001b[0mcond_list\u001b[0m \u001b[0;34m=\u001b[0m \u001b[0mbv3\u001b[0m\u001b[0;34m.\u001b[0m\u001b[0mmodExpressions\u001b[0m\u001b[0;34m(\u001b[0m\u001b[0;34m)\u001b[0m\u001b[0;34m[\u001b[0m\u001b[0mInteger\u001b[0m\u001b[0;34m(\u001b[0m\u001b[0;36m0\u001b[0m\u001b[0;34m)\u001b[0m\u001b[0;34m]\u001b[0m\u001b[0;34m[\u001b[0m\u001b[0mInteger\u001b[0m\u001b[0;34m(\u001b[0m\u001b[0;36m1\u001b[0m\u001b[0;34m)\u001b[0m\u001b[0;34m,\u001b[0m\u001b[0mInteger\u001b[0m\u001b[0;34m(\u001b[0m\u001b[0;36m0\u001b[0m\u001b[0;34m)\u001b[0m\u001b[0;34m,\u001b[0m\u001b[0mInteger\u001b[0m\u001b[0;34m(\u001b[0m\u001b[0;36m0\u001b[0m\u001b[0;34m)\u001b[0m\u001b[0;34m]\u001b[0m\u001b[0;34m\u001b[0m\u001b[0;34m\u001b[0m\u001b[0m\n\u001b[0m",
      "\u001b[0;32m<string>\u001b[0m in \u001b[0;36mmodExpressions\u001b[0;34m(self)\u001b[0m\n",
      "\u001b[0;32m<string>\u001b[0m in \u001b[0;36mfloorToMod\u001b[0;34m(expr, dic)\u001b[0m\n",
      "\u001b[0;32m~/miniconda3/envs/sage/lib/python3.7/site-packages/sage/misc/sage_eval.py\u001b[0m in \u001b[0;36msage_eval\u001b[0;34m(source, locals, cmds, preparse)\u001b[0m\n\u001b[1;32m    200\u001b[0m         \u001b[0;32mreturn\u001b[0m \u001b[0mlocals\u001b[0m\u001b[0;34m[\u001b[0m\u001b[0;34m'_sage_eval_returnval_'\u001b[0m\u001b[0;34m]\u001b[0m\u001b[0;34m\u001b[0m\u001b[0;34m\u001b[0m\u001b[0m\n\u001b[1;32m    201\u001b[0m     \u001b[0;32melse\u001b[0m\u001b[0;34m:\u001b[0m\u001b[0;34m\u001b[0m\u001b[0;34m\u001b[0m\u001b[0m\n\u001b[0;32m--> 202\u001b[0;31m         \u001b[0;32mreturn\u001b[0m \u001b[0meval\u001b[0m\u001b[0;34m(\u001b[0m\u001b[0msource\u001b[0m\u001b[0;34m,\u001b[0m \u001b[0msage\u001b[0m\u001b[0;34m.\u001b[0m\u001b[0mall\u001b[0m\u001b[0;34m.\u001b[0m\u001b[0m__dict__\u001b[0m\u001b[0;34m,\u001b[0m \u001b[0mlocals\u001b[0m\u001b[0;34m)\u001b[0m\u001b[0;34m\u001b[0m\u001b[0;34m\u001b[0m\u001b[0m\n\u001b[0m\u001b[1;32m    203\u001b[0m \u001b[0;34m\u001b[0m\u001b[0m\n\u001b[1;32m    204\u001b[0m \u001b[0;34m\u001b[0m\u001b[0m\n",
      "\u001b[0;32m~/miniconda3/envs/sage/lib/python3.7/site-packages/sage/all.py\u001b[0m in \u001b[0;36m<module>\u001b[0;34m\u001b[0m\n",
      "\u001b[0;32msrc/cysignals/signals.pyx\u001b[0m in \u001b[0;36mcysignals.signals.python_check_interrupt\u001b[0;34m()\u001b[0m\n",
      "\u001b[0;31mKeyboardInterrupt\u001b[0m: "
     ]
    }
   ],
   "source": [
    "expr , cond_list = bv3.modExpressions()[0][1,0,0]"
   ]
  },
  {
   "cell_type": "code",
   "execution_count": 29,
   "metadata": {},
   "outputs": [
    {
     "ename": "NameError",
     "evalue": "name 'L' is not defined",
     "output_type": "error",
     "traceback": [
      "\u001b[0;31m---------------------------------------------------------------------------\u001b[0m",
      "\u001b[0;31mNameError\u001b[0m                                 Traceback (most recent call last)",
      "\u001b[0;32m<ipython-input-29-42df0c558075>\u001b[0m in \u001b[0;36m<module>\u001b[0;34m\u001b[0m\n\u001b[1;32m      1\u001b[0m \u001b[0mk\u001b[0m \u001b[0;34m=\u001b[0m \u001b[0mInteger\u001b[0m\u001b[0;34m(\u001b[0m\u001b[0;36m0\u001b[0m\u001b[0;34m)\u001b[0m\u001b[0;34m\u001b[0m\u001b[0;34m\u001b[0m\u001b[0m\n\u001b[0;32m----> 2\u001b[0;31m \u001b[0;32mfor\u001b[0m \u001b[0mcase\u001b[0m \u001b[0;32min\u001b[0m \u001b[0mL\u001b[0m\u001b[0;34m:\u001b[0m\u001b[0;34m\u001b[0m\u001b[0;34m\u001b[0m\u001b[0m\n\u001b[0m\u001b[1;32m      3\u001b[0m     \u001b[0;32mfor\u001b[0m \u001b[0;34m(\u001b[0m\u001b[0mF\u001b[0m\u001b[0;34m,\u001b[0m \u001b[0mM\u001b[0m\u001b[0;34m)\u001b[0m \u001b[0;32min\u001b[0m \u001b[0mcase\u001b[0m\u001b[0;34m.\u001b[0m\u001b[0mvalues\u001b[0m\u001b[0;34m(\u001b[0m\u001b[0;34m)\u001b[0m\u001b[0;34m:\u001b[0m\u001b[0;34m\u001b[0m\u001b[0;34m\u001b[0m\u001b[0m\n\u001b[1;32m      4\u001b[0m         \u001b[0;32mfor\u001b[0m \u001b[0mN\u001b[0m \u001b[0;32min\u001b[0m \u001b[0mM\u001b[0m\u001b[0;34m:\u001b[0m\u001b[0;34m\u001b[0m\u001b[0;34m\u001b[0m\u001b[0m\n\u001b[1;32m      5\u001b[0m             \u001b[0mP\u001b[0m \u001b[0;34m=\u001b[0m \u001b[0mpolyhedron\u001b[0m\u001b[0;34m(\u001b[0m\u001b[0mN\u001b[0m\u001b[0;34m,\u001b[0m \u001b[0;34m[\u001b[0m\u001b[0mb1\u001b[0m\u001b[0;34m,\u001b[0m \u001b[0mb2\u001b[0m\u001b[0;34m,\u001b[0m \u001b[0ms\u001b[0m\u001b[0;34m]\u001b[0m\u001b[0;34m)\u001b[0m\u001b[0;34m\u001b[0m\u001b[0;34m\u001b[0m\u001b[0m\n",
      "\u001b[0;31mNameError\u001b[0m: name 'L' is not defined"
     ]
    }
   ],
   "source": [
    "k = 0\n",
    "for case in L:\n",
    "    for (F, M) in case.values():\n",
    "        for N in M:\n",
    "            P = polyhedron(N, [b1, b2, s])\n",
    "            if P.dim() == 3:\n",
    "                print(P)\n",
    "                k += 1\n",
    "print(k)"
   ]
  },
  {
   "cell_type": "code",
   "execution_count": null,
   "metadata": {},
   "outputs": [],
   "source": []
  }
 ],
 "metadata": {
  "kernelspec": {
   "display_name": "SageMath 9.2 (conda)",
   "language": "sage",
   "name": "sagemath"
  },
  "language_info": {
   "codemirror_mode": {
    "name": "ipython",
    "version": 3
   },
   "file_extension": ".py",
   "mimetype": "text/x-python",
   "name": "python",
   "nbconvert_exporter": "python",
   "pygments_lexer": "ipython3",
   "version": "3.7.8"
  }
 },
 "nbformat": 4,
 "nbformat_minor": 4
}
