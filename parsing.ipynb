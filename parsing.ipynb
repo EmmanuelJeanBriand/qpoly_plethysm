{
 "cells": [
  {
   "cell_type": "code",
   "execution_count": 6,
   "metadata": {},
   "outputs": [
    {
     "name": "stdout",
     "output_type": "stream",
     "text": [
      "{ [s] -> ((((((3/5 - 289/720 * s + 1/20 * s^2 + 1/720 * s^3) + (5/8 + 1/8 * s) *floor((s)/2)) + (1/3 - 1/6 * s) * floor((s)/3)) + ((7/12 - 1/3 * s) + 1/2 *floor((s)/3)) * floor((1 + s)/3) + 1/4 * floor((1 + s)/3)^2) + 1/4 * floor((s)/4))- 1/4 * floor((3 + s)/4)) : exists (e0 = floor((-1 + s)/5): 5e0 = -1 + s and s >= 1);[s] -> ((((((1 - 289/720 * s + 1/20 * s^2 + 1/720 * s^3) + (5/8 + 1/8 * s) *floor((s)/2)) + (1/3 - 1/6 * s) * floor((s)/3)) + ((7/12 - 1/3 * s) + 1/2 *floor((s)/3)) * floor((1 + s)/3) + 1/4 * floor((1 + s)/3)^2) + 1/4 * floor((s)/4)) -1/4 * floor((3 + s)/4)) : exists (e0 = floor((-1 + s)/5), e1 = floor((s)/5): 5e1 = sand s >= 5 and 5e0 <= -2 + s and 5e0 >= -5 + s); [s] -> (((((((-4/5 + 289/720 * s -1/20 * s^2 - 1/720 * s^3) + (-5/8 - 1/8 * s) * floor((s)/2)) + (-1/3 + 1/6 * s) *floor((s)/3)) + ((-7/12 + 1/3 * s) - 1/2 * floor((s)/3)) * floor((1 + s)/3) - 1/4 *floor((1 + s)/3)^2) - 1/4 * floor((s)/4)) + 1/4 * floor((3 + s)/4)) * floor((s)/5) +((((((4/5 - 289/720 * s + 1/20 * s^2 + 1/720 * s^3) + (5/8 + 1/8 * s) * floor((s)/2)) +(1/3 - 1/6 * s) * floor((s)/3)) + ((7/12 - 1/3 * s) + 1/2 * floor((s)/3)) *floor((1 + s)/3) + 1/4 * floor((1 + s)/3)^2) + 1/4 * floor((s)/4)) - 1/4 *floor((3 + s)/4)) * floor((3 + s)/5)) : exists (e0 = floor((-1 + s)/5), e1 =floor((s)/5): s >= 1 and 5e0 <= -2 + s and 5e0 >= -5 + s and 5e1 <= -1 + s and5e1 >= -4 + s); [s] -> 1 : s = 0 }\n"
     ]
    }
   ],
   "source": [
    "str1 = \"\"\"{ [s] -> ((((((3/5 - 289/720 * s + 1/20 * s^2 + 1/720 * s^3) + (5/8 + 1/8 * s) *\n",
    "floor((s)/2)) + (1/3 - 1/6 * s) * floor((s)/3)) + ((7/12 - 1/3 * s) + 1/2 *\n",
    "floor((s)/3)) * floor((1 + s)/3) + 1/4 * floor((1 + s)/3)^2) + 1/4 * floor((s)/4))\n",
    "- 1/4 * floor((3 + s)/4)) : exists (e0 = floor((-1 + s)/5): 5e0 = -1 + s and s >= 1);\n",
    "[s] -> ((((((1 - 289/720 * s + 1/20 * s^2 + 1/720 * s^3) + (5/8 + 1/8 * s) *\n",
    "floor((s)/2)) + (1/3 - 1/6 * s) * floor((s)/3)) + ((7/12 - 1/3 * s) + 1/2 *\n",
    "floor((s)/3)) * floor((1 + s)/3) + 1/4 * floor((1 + s)/3)^2) + 1/4 * floor((s)/4)) -\n",
    "1/4 * floor((3 + s)/4)) : exists (e0 = floor((-1 + s)/5), e1 = floor((s)/5): 5e1 = s\n",
    "and s >= 5 and 5e0 <= -2 + s and 5e0 >= -5 + s); [s] -> (((((((-4/5 + 289/720 * s -\n",
    "1/20 * s^2 - 1/720 * s^3) + (-5/8 - 1/8 * s) * floor((s)/2)) + (-1/3 + 1/6 * s) *\n",
    "floor((s)/3)) + ((-7/12 + 1/3 * s) - 1/2 * floor((s)/3)) * floor((1 + s)/3) - 1/4 *\n",
    "floor((1 + s)/3)^2) - 1/4 * floor((s)/4)) + 1/4 * floor((3 + s)/4)) * floor((s)/5) +\n",
    "((((((4/5 - 289/720 * s + 1/20 * s^2 + 1/720 * s^3) + (5/8 + 1/8 * s) * floor((s)/2)) +\n",
    "(1/3 - 1/6 * s) * floor((s)/3)) + ((7/12 - 1/3 * s) + 1/2 * floor((s)/3)) *\n",
    "floor((1 + s)/3) + 1/4 * floor((1 + s)/3)^2) + 1/4 * floor((s)/4)) - 1/4 *\n",
    "floor((3 + s)/4)) * floor((3 + s)/5)) : exists (e0 = floor((-1 + s)/5), e1 =\n",
    "floor((s)/5): s >= 1 and 5e0 <= -2 + s and 5e0 >= -5 + s and 5e1 <= -1 + s and\n",
    "5e1 >= -4 + s); [s] -> 1 : s = 0 }\"\"\"\n",
    "str1 = str1.replace('\\n', '') # remove newline chars\n",
    "print(str1)"
   ]
  },
  {
   "cell_type": "markdown",
   "metadata": {},
   "source": [
    "Structure:\n",
    "- **whole function:** *`{ ` CASES `}`*\n",
    "    - **CASES:** *CASE 1 `; `CASE 2 `;` ...*\n",
    "      - **case:** *vars ` -> ` formula*\n",
    "        - **vars:** *`[ `x1 `, `  x2 `, ` ... `]`*\n",
    "        - **formula:**  *X ` : ` DISJ* \n",
    "          - **X** is a formula involving floors\n",
    "          - **DISJ:** *EX 1 ` or `  EX 2 ` or  ` ...*\n",
    "            - **EX:** *`exists (` QUANTS ` : ` CONDS `)`*\n",
    "              - **QUANTS:** *Q 1 ` , ` Q 2 ` , ` ...*\n",
    "              \n",
    "                - **Q:** *ei ` = floor(`  F `)`*\n",
    "                \n",
    "                  - **ei** are variables e0, e1, e2 ...\n",
    "                  - **F**  is an integer polynomial divided by an integer.\n",
    "                  \n",
    "              - **CONDS:** *c1 ` and ` c2 ` and ` ...*\n",
    "              \n",
    "                - each **c** is an inequality but multiplication sign is omitted. The variables have been declared before (e0, e1, .... ). So to parse this, you can use regex and replace '[0-9][a-zA-Z]' by inserting a multiplication sign between them\n",
    "                "
   ]
  },
  {
   "cell_type": "markdown",
   "metadata": {},
   "source": [
    "### Strategy: \n",
    "ad-hoc parsing (adapted to this structure). Implement the parsing of lower-level data first. The parsing of higher level data call the parsing of lower-level data."
   ]
  },
  {
   "cell_type": "code",
   "execution_count": 7,
   "metadata": {},
   "outputs": [],
   "source": [
    "import re\n",
    "\n",
    "def insert_mul(str):\n",
    "    r'''Insert `` * `` between a digit and an alphabetic character. \n",
    "    \n",
    "    EXAMPLE::\n",
    "    \n",
    "        >>> insert_mul('5e1 >= -4 + s')\n",
    "        '5 * e1 >= -4 + s'\n",
    "    '''\n",
    "    return re.sub(r'(\\d)([(a-zA-Z])', r'\\1 * \\2', str)\n",
    "\n",
    "\n",
    "def split_conj(str):\n",
    "    r'''\n",
    "    EXAMPLE::\n",
    "    \n",
    "        >>> split_conj('s >= 1 and 5e0 <= -2 + s and 5e0 >= -5 + s \n",
    "        ... and 5e1 <= -1 + s and 5e1 >= -4 + s')\n",
    "        ['s >= 1',\n",
    "         '5 * e0 <= -2 + s',\n",
    "         '5 * e0 >= -5 + s',\n",
    "         '5 * e1 <= -1 + s',\n",
    "         '5 * e1 >= -4 + s']\n",
    "    '''\n",
    "    return [insert_mul(s) for s in  str.split(' and ')]"
   ]
  },
  {
   "cell_type": "code",
   "execution_count": 9,
   "metadata": {},
   "outputs": [
    {
     "data": {
      "text/plain": [
       "'5 * e1 >= -4 + s'"
      ]
     },
     "execution_count": 9,
     "metadata": {},
     "output_type": "execute_result"
    }
   ],
   "source": [
    "insert_mul('5e1 >= -4 + s')"
   ]
  },
  {
   "cell_type": "code",
   "execution_count": 11,
   "metadata": {},
   "outputs": [
    {
     "data": {
      "text/plain": [
       "['s >= 1',\n",
       " '5 * e0 <= -2 + s',\n",
       " '5 * e0 >= -5 + s',\n",
       " '5 * e1 <= -1 + s',\n",
       " '5 * e1 >= -4 + s']"
      ]
     },
     "execution_count": 11,
     "metadata": {},
     "output_type": "execute_result"
    }
   ],
   "source": [
    ">>> split_conj('s >= 1 and 5e0 <= -2 + s and 5e0 >= -5 + s and 5e1 <= -1 + s and 5e1 >= -4 + s')"
   ]
  },
  {
   "cell_type": "code",
   "execution_count": null,
   "metadata": {},
   "outputs": [],
   "source": []
  }
 ],
 "metadata": {
  "kernelspec": {
   "display_name": "SageMath 9.2 (conda)",
   "language": "sage",
   "name": "sagemath"
  },
  "language_info": {
   "codemirror_mode": {
    "name": "ipython",
    "version": 3
   },
   "file_extension": ".py",
   "mimetype": "text/x-python",
   "name": "python",
   "nbconvert_exporter": "python",
   "pygments_lexer": "ipython3",
   "version": "3.7.8"
  }
 },
 "nbformat": 4,
 "nbformat_minor": 4
}
